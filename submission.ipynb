{
 "cells": [
  {
   "cell_type": "code",
   "execution_count": 1,
   "metadata": {},
   "outputs": [],
   "source": [
    "import gensim\n",
    "import numpy as np\n",
    "import matplotlib.pyplot as plt\n",
    "from sklearn.manifold import TSNE\n",
    "import os, sys\n",
    "from nltk.tokenize import word_tokenize\n",
    "from nltk.corpus import stopwords\n",
    "from nltk.stem import PorterStemmer\n",
    "import string"
   ]
  },
  {
   "cell_type": "code",
   "execution_count": 2,
   "metadata": {},
   "outputs": [],
   "source": [
    "folder_path = os.getcwd()\n",
    "dataset_path = folder_path + '/' + 'pepperfry_dataset'"
   ]
  },
  {
   "cell_type": "code",
   "execution_count": 3,
   "metadata": {},
   "outputs": [],
   "source": [
    "def get_all_folders(root_path):\n",
    "    return [ item for item in os.listdir(dataset_path) if os.path.isdir(os.path.join(root_path, item)) ]"
   ]
  },
  {
   "cell_type": "code",
   "execution_count": 4,
   "metadata": {},
   "outputs": [],
   "source": [
    "all_paths = []\n",
    "for folder in get_all_folders(dataset_path):\n",
    "    total_path = os.path.join(dataset_path, folder, 'metadata.txt')\n",
    "    all_paths.append(total_path)"
   ]
  },
  {
   "cell_type": "code",
   "execution_count": 5,
   "metadata": {},
   "outputs": [],
   "source": [
    "#some constants for tokenization\n",
    "stop_words = set(stopwords.words('english'))\n",
    "table = str.maketrans('', '', string.punctuation)\n",
    "ps = PorterStemmer()"
   ]
  },
  {
   "cell_type": "code",
   "execution_count": 6,
   "metadata": {},
   "outputs": [],
   "source": [
    "#removing the stopwords, punctuations, splitting and tokenization\n",
    "colors = []\n",
    "for path in all_paths:\n",
    "    with open(path, 'r+') as metadata_file:\n",
    "        for line in metadata_file:\n",
    "            word_list = line.split(':')\n",
    "            word_list = [w.lower().strip() for w in word_list]\n",
    "            key = word_list[0].lower().strip()\n",
    "            stripped = [w.translate(table) for w in word_list[1:]]\n",
    "            stripped = [w.lower().strip() for w in stripped if not w in stop_words]\n",
    "            value = ' '.join(stripped)\n",
    "            if(key == 'colour' or key == 'color'):\n",
    "                colors.append(value)"
   ]
  },
  {
   "cell_type": "code",
   "execution_count": 7,
   "metadata": {},
   "outputs": [],
   "source": [
    "#method used for correcting the mistakes -- HARDCODED since domain knowledge -- can be commented too\n",
    "def correct_errors(all_cols):\n",
    "    for i, col in enumerate(all_cols):\n",
    "        if(col == 'vermount'):\n",
    "            all_cols[i] = 'vermont'\n",
    "#         all_cols[i] = (ps.stem(col))\n",
    "        elif(col == 'blacks'):\n",
    "            all_cols[i] = 'black'\n",
    "    return all_cols"
   ]
  },
  {
   "cell_type": "code",
   "execution_count": 8,
   "metadata": {},
   "outputs": [],
   "source": [
    "#final level of processing\n",
    "colors = correct_errors(colors)\n",
    "colors = list(set(colors))\n",
    "for i, color in enumerate(colors):\n",
    "    all_cols = [item.lower().strip() for item in color.split(' ') if not item == '']\n",
    "    final_col = ' '.join(all_cols)\n",
    "    colors[i] = final_col.lower().strip()"
   ]
  },
  {
   "cell_type": "code",
   "execution_count": 9,
   "metadata": {},
   "outputs": [
    {
     "data": {
      "text/plain": [
       "['vermont',\n",
       " 'wenge',\n",
       " 'provincial teak',\n",
       " 'white',\n",
       " 'blue',\n",
       " 'honey oak',\n",
       " 'warm walnut',\n",
       " 'multicolour',\n",
       " 'dual tone',\n",
       " 'brown',\n",
       " 'yellow',\n",
       " 'black',\n",
       " 'natural wenge',\n",
       " 'red',\n",
       " 'denver oak',\n",
       " 'distress',\n",
       " 'painted multicolour',\n",
       " 'warm chestnut']"
      ]
     },
     "execution_count": 9,
     "metadata": {},
     "output_type": "execute_result"
    }
   ],
   "source": [
    "colors"
   ]
  },
  {
   "cell_type": "code",
   "execution_count": 10,
   "metadata": {},
   "outputs": [],
   "source": [
    "model = gensim.models.KeyedVectors.load_word2vec_format('GoogleNews-vectors-negative300.bin.gz', binary=True)"
   ]
  },
  {
   "cell_type": "code",
   "execution_count": 11,
   "metadata": {},
   "outputs": [],
   "source": [
    "#Use vector addition of the constituent words of a phrase\n",
    "#this typically works well because addition is a good estimation of semantic composition.\n",
    "def combine_vectors(vectors):\n",
    "    vectors = np.array(vectors).reshape(len(vectors), len(vectors[0]))\n",
    "    vec = np.sum(vectors, axis = 0)\n",
    "    return vec"
   ]
  },
  {
   "cell_type": "code",
   "execution_count": 12,
   "metadata": {},
   "outputs": [],
   "source": [
    "def display_closestwords_tsnescatterplot(model, colors):\n",
    "    \n",
    "    arr = np.empty((0,300), dtype='f')\n",
    "    word_labels = []\n",
    "    \n",
    "    #for each word/phrase, add the corresponding vectors\n",
    "    for word in colors:\n",
    "        word_labels.append(word)\n",
    "        all_vecs = []\n",
    "        for ind_word in word.split(' '):\n",
    "            all_vecs.append(model[ind_word])\n",
    "        wrd_vector = combine_vectors(all_vecs)\n",
    "        arr = np.append(arr, np.array([wrd_vector]), axis=0)\n",
    "        \n",
    "    # find tsne coords for 2 dimensions\n",
    "    tsne = TSNE(n_components=2, random_state=0)\n",
    "    np.set_printoptions(suppress=True)\n",
    "    Y = tsne.fit_transform(arr)\n",
    "\n",
    "    x_coords = Y[:, 0]\n",
    "    y_coords = Y[:, 1]\n",
    "    \n",
    "    # display scatter plot\n",
    "    plt.scatter(x_coords, y_coords)\n",
    "\n",
    "    for label, x, y in zip(word_labels, x_coords, y_coords):\n",
    "        plt.annotate(label, xy=(x, y), xytext=(0, 0), textcoords='offset points')\n",
    "    plt.xlim(x_coords.min()+0.00005, x_coords.max()+0.00005)\n",
    "    plt.ylim(y_coords.min()+0.00005, y_coords.max()+0.00005)\n",
    "    plt.show()"
   ]
  },
  {
   "cell_type": "code",
   "execution_count": 13,
   "metadata": {},
   "outputs": [
    {
     "data": {
      "image/png": "[encoded data removed]",
      "text/plain": [
       "<Figure size 432x288 with 1 Axes>"
      ]
     },
     "metadata": {},
     "output_type": "display_data"
    }
   ],
   "source": [
    "display_closestwords_tsnescatterplot(model, colors)"
   ]
  },
  {
   "cell_type": "code",
   "execution_count": null,
   "metadata": {},
   "outputs": [],
   "source": []
  }
 ],
 "metadata": {
  "kernelspec": {
   "display_name": "Python 3",
   "language": "python",
   "name": "python3"
  },
  "language_info": {
   "codemirror_mode": {
    "name": "ipython",
    "version": 3
   },
   "file_extension": ".py",
   "mimetype": "text/x-python",
   "name": "python",
   "nbconvert_exporter": "python",
   "pygments_lexer": "ipython3",
   "version": "3.6.6"
  }
 },
 "nbformat": 4,
 "nbformat_minor": 2
}
